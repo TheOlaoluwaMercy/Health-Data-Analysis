{
 "cells": [
  {
   "cell_type": "markdown",
   "id": "6e13e25b-44e1-4836-af21-777bce38c054",
   "metadata": {},
   "source": [
    "# Health Data Analysis"
   ]
  },
  {
   "cell_type": "code",
   "execution_count": 2,
   "id": "4d773136-b261-4a5e-8b09-feee03f88311",
   "metadata": {},
   "outputs": [],
   "source": [
    "# import Libraries\n",
    "\n",
    "# Data Analysis and wrangling\n",
    "import pandas as pd\n",
    "import numpy as np\n",
    "\n",
    "# Data Visualization\n",
    "import seaborn as sns\n",
    "import matplotlib.pyplot as plt\n",
    "\n",
    "# Statistical Analysis\n",
    "import scipy.stats as stats\n",
    "import statsmodels.api as sm\n",
    "\n",
    "# choosing color palette\n",
    "flatui = [\"#9b59b6\", \"#3498db\", \"#95a5a6\", \"#e74c3c\", \"#34495e\", \"#2ecc71\"]"
   ]
  },
  {
   "cell_type": "code",
   "execution_count": 3,
   "id": "7349b5f6-9489-49cd-903d-2da0db8699da",
   "metadata": {},
   "outputs": [
    {
     "data": {
      "text/html": [
       "<div>\n",
       "<style scoped>\n",
       "    .dataframe tbody tr th:only-of-type {\n",
       "        vertical-align: middle;\n",
       "    }\n",
       "\n",
       "    .dataframe tbody tr th {\n",
       "        vertical-align: top;\n",
       "    }\n",
       "\n",
       "    .dataframe thead th {\n",
       "        text-align: right;\n",
       "    }\n",
       "</style>\n",
       "<table border=\"1\" class=\"dataframe\">\n",
       "  <thead>\n",
       "    <tr style=\"text-align: right;\">\n",
       "      <th></th>\n",
       "      <th>ID</th>\n",
       "      <th>Gender</th>\n",
       "      <th>Height</th>\n",
       "      <th>Weight</th>\n",
       "      <th>MH</th>\n",
       "      <th>ExerciseReg</th>\n",
       "      <th>vo2max</th>\n",
       "    </tr>\n",
       "  </thead>\n",
       "  <tbody>\n",
       "    <tr>\n",
       "      <th>0</th>\n",
       "      <td>18</td>\n",
       "      <td>1</td>\n",
       "      <td>1.62</td>\n",
       "      <td>43.27</td>\n",
       "      <td>37.48</td>\n",
       "      <td>1</td>\n",
       "      <td>48.33</td>\n",
       "    </tr>\n",
       "    <tr>\n",
       "      <th>1</th>\n",
       "      <td>16</td>\n",
       "      <td>1</td>\n",
       "      <td>1.62</td>\n",
       "      <td>43.72</td>\n",
       "      <td>32.86</td>\n",
       "      <td>1</td>\n",
       "      <td>52.32</td>\n",
       "    </tr>\n",
       "    <tr>\n",
       "      <th>2</th>\n",
       "      <td>57</td>\n",
       "      <td>2</td>\n",
       "      <td>1.56</td>\n",
       "      <td>41.73</td>\n",
       "      <td>43.58</td>\n",
       "      <td>1</td>\n",
       "      <td>46.31</td>\n",
       "    </tr>\n",
       "    <tr>\n",
       "      <th>3</th>\n",
       "      <td>8</td>\n",
       "      <td>1</td>\n",
       "      <td>1.62</td>\n",
       "      <td>47.28</td>\n",
       "      <td>38.65</td>\n",
       "      <td>1</td>\n",
       "      <td>56.60</td>\n",
       "    </tr>\n",
       "    <tr>\n",
       "      <th>4</th>\n",
       "      <td>61</td>\n",
       "      <td>2</td>\n",
       "      <td>1.52</td>\n",
       "      <td>42.04</td>\n",
       "      <td>38.26</td>\n",
       "      <td>1</td>\n",
       "      <td>52.08</td>\n",
       "    </tr>\n",
       "  </tbody>\n",
       "</table>\n",
       "</div>"
      ],
      "text/plain": [
       "   ID  Gender  Height  Weight     MH  ExerciseReg  vo2max\n",
       "0  18       1    1.62   43.27  37.48            1   48.33\n",
       "1  16       1    1.62   43.72  32.86            1   52.32\n",
       "2  57       2    1.56   41.73  43.58            1   46.31\n",
       "3   8       1    1.62   47.28  38.65            1   56.60\n",
       "4  61       2    1.52   42.04  38.26            1   52.08"
      ]
     },
     "execution_count": 3,
     "metadata": {},
     "output_type": "execute_result"
    }
   ],
   "source": [
    "# load data into dataframe\n",
    "data = pd.read_excel(r\"C:\\Users\\PC\\Desktop\\Oluwatobi\\Data Analytics Project\\Python'\\Health Data\\Health data.xlsx\")\n",
    "data.head()"
   ]
  },
  {
   "cell_type": "markdown",
   "id": "19c852f7-ad44-443e-a217-bd2d0c191ac7",
   "metadata": {},
   "source": [
    "## Exploratory Data Analysis"
   ]
  },
  {
   "cell_type": "markdown",
   "id": "25a15bd6-5f12-423f-a96d-5a58962f4403",
   "metadata": {},
   "source": [
    "### Data Overview"
   ]
  },
  {
   "cell_type": "code",
   "execution_count": 6,
   "id": "a6953740-4e20-4ec5-92f8-cc886c85b1db",
   "metadata": {},
   "outputs": [
    {
     "data": {
      "text/plain": [
       "(100, 7)"
      ]
     },
     "execution_count": 6,
     "metadata": {},
     "output_type": "execute_result"
    }
   ],
   "source": [
    "data.shape"
   ]
  },
  {
   "cell_type": "markdown",
   "id": "f0ea3f46-679f-4daf-bc55-212c28cfb149",
   "metadata": {},
   "source": [
    "- The dataset has 100 rows and 7 columns"
   ]
  },
  {
   "cell_type": "code",
   "execution_count": 8,
   "id": "2bd16e92-5bc2-4436-b29e-0d61b740ddb8",
   "metadata": {},
   "outputs": [
    {
     "name": "stdout",
     "output_type": "stream",
     "text": [
      "<class 'pandas.core.frame.DataFrame'>\n",
      "RangeIndex: 100 entries, 0 to 99\n",
      "Data columns (total 7 columns):\n",
      " #   Column       Non-Null Count  Dtype  \n",
      "---  ------       --------------  -----  \n",
      " 0   ID           100 non-null    int64  \n",
      " 1   Gender       100 non-null    int64  \n",
      " 2   Height       100 non-null    float64\n",
      " 3   Weight       100 non-null    float64\n",
      " 4   MH           100 non-null    float64\n",
      " 5   ExerciseReg  100 non-null    int64  \n",
      " 6   vo2max       100 non-null    float64\n",
      "dtypes: float64(4), int64(3)\n",
      "memory usage: 5.6 KB\n"
     ]
    }
   ],
   "source": [
    "# check basic dataset information(datatype, non-null count)\n",
    "data.info()"
   ]
  },
  {
   "cell_type": "markdown",
   "id": "ec6f5ecb-9b77-4940-9361-da89912cb979",
   "metadata": {},
   "source": [
    "- there are no null values"
   ]
  },
  {
   "cell_type": "code",
   "execution_count": 10,
   "id": "13b88dd5-c9e7-48d4-804d-0b5a85d0d51b",
   "metadata": {},
   "outputs": [
    {
     "data": {
      "text/plain": [
       "0"
      ]
     },
     "execution_count": 10,
     "metadata": {},
     "output_type": "execute_result"
    }
   ],
   "source": [
    "# check for duplicates\n",
    "data.duplicated().sum()"
   ]
  },
  {
   "cell_type": "markdown",
   "id": "336a8e8b-3774-4855-bbfc-7c9ba7ad019e",
   "metadata": {},
   "source": [
    "- there are no duplicate entries"
   ]
  },
  {
   "cell_type": "markdown",
   "id": "6b837b15-24b2-4f01-ba1a-ec1543060b43",
   "metadata": {},
   "source": [
    "### Data Cleaning"
   ]
  },
  {
   "cell_type": "code",
   "execution_count": 13,
   "id": "dd253f57-2e22-4271-8bc8-e8e378689623",
   "metadata": {},
   "outputs": [],
   "source": [
    "#replace 1 with Male and 2 with Female in the Gender Column\n",
    "data['Gender'] = data['Gender'].replace({1: 'Male', 2:'Female'})"
   ]
  },
  {
   "cell_type": "code",
   "execution_count": 14,
   "id": "1ca42288-9916-4e3d-bbb8-ef3ac19a215e",
   "metadata": {},
   "outputs": [
    {
     "data": {
      "text/html": [
       "<div>\n",
       "<style scoped>\n",
       "    .dataframe tbody tr th:only-of-type {\n",
       "        vertical-align: middle;\n",
       "    }\n",
       "\n",
       "    .dataframe tbody tr th {\n",
       "        vertical-align: top;\n",
       "    }\n",
       "\n",
       "    .dataframe thead th {\n",
       "        text-align: right;\n",
       "    }\n",
       "</style>\n",
       "<table border=\"1\" class=\"dataframe\">\n",
       "  <thead>\n",
       "    <tr style=\"text-align: right;\">\n",
       "      <th></th>\n",
       "      <th>ID</th>\n",
       "      <th>Gender</th>\n",
       "      <th>Height</th>\n",
       "      <th>Weight</th>\n",
       "      <th>MH</th>\n",
       "      <th>ExerciseReg</th>\n",
       "      <th>vo2max</th>\n",
       "    </tr>\n",
       "  </thead>\n",
       "  <tbody>\n",
       "    <tr>\n",
       "      <th>0</th>\n",
       "      <td>18</td>\n",
       "      <td>Male</td>\n",
       "      <td>1.62</td>\n",
       "      <td>43.27</td>\n",
       "      <td>37.48</td>\n",
       "      <td>1</td>\n",
       "      <td>48.33</td>\n",
       "    </tr>\n",
       "    <tr>\n",
       "      <th>1</th>\n",
       "      <td>16</td>\n",
       "      <td>Male</td>\n",
       "      <td>1.62</td>\n",
       "      <td>43.72</td>\n",
       "      <td>32.86</td>\n",
       "      <td>1</td>\n",
       "      <td>52.32</td>\n",
       "    </tr>\n",
       "    <tr>\n",
       "      <th>2</th>\n",
       "      <td>57</td>\n",
       "      <td>Female</td>\n",
       "      <td>1.56</td>\n",
       "      <td>41.73</td>\n",
       "      <td>43.58</td>\n",
       "      <td>1</td>\n",
       "      <td>46.31</td>\n",
       "    </tr>\n",
       "    <tr>\n",
       "      <th>3</th>\n",
       "      <td>8</td>\n",
       "      <td>Male</td>\n",
       "      <td>1.62</td>\n",
       "      <td>47.28</td>\n",
       "      <td>38.65</td>\n",
       "      <td>1</td>\n",
       "      <td>56.60</td>\n",
       "    </tr>\n",
       "    <tr>\n",
       "      <th>4</th>\n",
       "      <td>61</td>\n",
       "      <td>Female</td>\n",
       "      <td>1.52</td>\n",
       "      <td>42.04</td>\n",
       "      <td>38.26</td>\n",
       "      <td>1</td>\n",
       "      <td>52.08</td>\n",
       "    </tr>\n",
       "  </tbody>\n",
       "</table>\n",
       "</div>"
      ],
      "text/plain": [
       "   ID  Gender  Height  Weight     MH  ExerciseReg  vo2max\n",
       "0  18    Male    1.62   43.27  37.48            1   48.33\n",
       "1  16    Male    1.62   43.72  32.86            1   52.32\n",
       "2  57  Female    1.56   41.73  43.58            1   46.31\n",
       "3   8    Male    1.62   47.28  38.65            1   56.60\n",
       "4  61  Female    1.52   42.04  38.26            1   52.08"
      ]
     },
     "execution_count": 14,
     "metadata": {},
     "output_type": "execute_result"
    }
   ],
   "source": [
    "data.head()"
   ]
  },
  {
   "cell_type": "code",
   "execution_count": 15,
   "id": "8000d806-d56d-46fe-b87a-c49f3b8070e5",
   "metadata": {},
   "outputs": [],
   "source": [
    "#replace 1 with Exercise Regularly and 0 with Doesnt Exercise Regularly in the ExerciseReg Column\n",
    "data['ExerciseReg'] = data['ExerciseReg'].replace({1: 'Exercise Regularly', 0:'Doesnt Exercise Regularly' })"
   ]
  },
  {
   "cell_type": "code",
   "execution_count": 16,
   "id": "23021453-3517-466c-94ae-8147d8e291d5",
   "metadata": {},
   "outputs": [
    {
     "data": {
      "text/html": [
       "<div>\n",
       "<style scoped>\n",
       "    .dataframe tbody tr th:only-of-type {\n",
       "        vertical-align: middle;\n",
       "    }\n",
       "\n",
       "    .dataframe tbody tr th {\n",
       "        vertical-align: top;\n",
       "    }\n",
       "\n",
       "    .dataframe thead th {\n",
       "        text-align: right;\n",
       "    }\n",
       "</style>\n",
       "<table border=\"1\" class=\"dataframe\">\n",
       "  <thead>\n",
       "    <tr style=\"text-align: right;\">\n",
       "      <th></th>\n",
       "      <th>ID</th>\n",
       "      <th>Gender</th>\n",
       "      <th>Height</th>\n",
       "      <th>Weight</th>\n",
       "      <th>MH</th>\n",
       "      <th>ExerciseReg</th>\n",
       "      <th>vo2max</th>\n",
       "    </tr>\n",
       "  </thead>\n",
       "  <tbody>\n",
       "    <tr>\n",
       "      <th>0</th>\n",
       "      <td>18</td>\n",
       "      <td>Male</td>\n",
       "      <td>1.62</td>\n",
       "      <td>43.27</td>\n",
       "      <td>37.48</td>\n",
       "      <td>Exercise Regularly</td>\n",
       "      <td>48.33</td>\n",
       "    </tr>\n",
       "    <tr>\n",
       "      <th>1</th>\n",
       "      <td>16</td>\n",
       "      <td>Male</td>\n",
       "      <td>1.62</td>\n",
       "      <td>43.72</td>\n",
       "      <td>32.86</td>\n",
       "      <td>Exercise Regularly</td>\n",
       "      <td>52.32</td>\n",
       "    </tr>\n",
       "    <tr>\n",
       "      <th>2</th>\n",
       "      <td>57</td>\n",
       "      <td>Female</td>\n",
       "      <td>1.56</td>\n",
       "      <td>41.73</td>\n",
       "      <td>43.58</td>\n",
       "      <td>Exercise Regularly</td>\n",
       "      <td>46.31</td>\n",
       "    </tr>\n",
       "    <tr>\n",
       "      <th>3</th>\n",
       "      <td>8</td>\n",
       "      <td>Male</td>\n",
       "      <td>1.62</td>\n",
       "      <td>47.28</td>\n",
       "      <td>38.65</td>\n",
       "      <td>Exercise Regularly</td>\n",
       "      <td>56.60</td>\n",
       "    </tr>\n",
       "    <tr>\n",
       "      <th>4</th>\n",
       "      <td>61</td>\n",
       "      <td>Female</td>\n",
       "      <td>1.52</td>\n",
       "      <td>42.04</td>\n",
       "      <td>38.26</td>\n",
       "      <td>Exercise Regularly</td>\n",
       "      <td>52.08</td>\n",
       "    </tr>\n",
       "  </tbody>\n",
       "</table>\n",
       "</div>"
      ],
      "text/plain": [
       "   ID  Gender  Height  Weight     MH         ExerciseReg  vo2max\n",
       "0  18    Male    1.62   43.27  37.48  Exercise Regularly   48.33\n",
       "1  16    Male    1.62   43.72  32.86  Exercise Regularly   52.32\n",
       "2  57  Female    1.56   41.73  43.58  Exercise Regularly   46.31\n",
       "3   8    Male    1.62   47.28  38.65  Exercise Regularly   56.60\n",
       "4  61  Female    1.52   42.04  38.26  Exercise Regularly   52.08"
      ]
     },
     "execution_count": 16,
     "metadata": {},
     "output_type": "execute_result"
    }
   ],
   "source": [
    "data.head()"
   ]
  },
  {
   "cell_type": "markdown",
   "id": "c661f772-00c0-454a-8fc7-e2a307cd0999",
   "metadata": {},
   "source": [
    "### Univariate Descriptive Analysis"
   ]
  },
  {
   "cell_type": "code",
   "execution_count": 18,
   "id": "28a46478-c43e-4104-ac62-40d86d32e6c9",
   "metadata": {},
   "outputs": [
    {
     "data": {
      "text/html": [
       "<div>\n",
       "<style scoped>\n",
       "    .dataframe tbody tr th:only-of-type {\n",
       "        vertical-align: middle;\n",
       "    }\n",
       "\n",
       "    .dataframe tbody tr th {\n",
       "        vertical-align: top;\n",
       "    }\n",
       "\n",
       "    .dataframe thead th {\n",
       "        text-align: right;\n",
       "    }\n",
       "</style>\n",
       "<table border=\"1\" class=\"dataframe\">\n",
       "  <thead>\n",
       "    <tr style=\"text-align: right;\">\n",
       "      <th></th>\n",
       "      <th>ID</th>\n",
       "      <th>Height</th>\n",
       "      <th>Weight</th>\n",
       "      <th>MH</th>\n",
       "      <th>vo2max</th>\n",
       "    </tr>\n",
       "  </thead>\n",
       "  <tbody>\n",
       "    <tr>\n",
       "      <th>count</th>\n",
       "      <td>100.000000</td>\n",
       "      <td>100.000000</td>\n",
       "      <td>100.000000</td>\n",
       "      <td>100.000000</td>\n",
       "      <td>100.000000</td>\n",
       "    </tr>\n",
       "    <tr>\n",
       "      <th>mean</th>\n",
       "      <td>478.080000</td>\n",
       "      <td>1.684200</td>\n",
       "      <td>78.111900</td>\n",
       "      <td>40.854500</td>\n",
       "      <td>48.124200</td>\n",
       "    </tr>\n",
       "    <tr>\n",
       "      <th>std</th>\n",
       "      <td>290.240189</td>\n",
       "      <td>0.102032</td>\n",
       "      <td>20.166333</td>\n",
       "      <td>7.438036</td>\n",
       "      <td>6.908733</td>\n",
       "    </tr>\n",
       "    <tr>\n",
       "      <th>min</th>\n",
       "      <td>1.000000</td>\n",
       "      <td>1.380000</td>\n",
       "      <td>41.730000</td>\n",
       "      <td>22.830000</td>\n",
       "      <td>32.170000</td>\n",
       "    </tr>\n",
       "    <tr>\n",
       "      <th>25%</th>\n",
       "      <td>232.750000</td>\n",
       "      <td>1.620000</td>\n",
       "      <td>63.150000</td>\n",
       "      <td>36.010000</td>\n",
       "      <td>44.077500</td>\n",
       "    </tr>\n",
       "    <tr>\n",
       "      <th>50%</th>\n",
       "      <td>450.500000</td>\n",
       "      <td>1.690000</td>\n",
       "      <td>76.355000</td>\n",
       "      <td>40.385000</td>\n",
       "      <td>48.370000</td>\n",
       "    </tr>\n",
       "    <tr>\n",
       "      <th>75%</th>\n",
       "      <td>729.250000</td>\n",
       "      <td>1.760000</td>\n",
       "      <td>89.767500</td>\n",
       "      <td>46.270000</td>\n",
       "      <td>53.227500</td>\n",
       "    </tr>\n",
       "    <tr>\n",
       "      <th>max</th>\n",
       "      <td>998.000000</td>\n",
       "      <td>1.900000</td>\n",
       "      <td>143.750000</td>\n",
       "      <td>60.000000</td>\n",
       "      <td>64.550000</td>\n",
       "    </tr>\n",
       "  </tbody>\n",
       "</table>\n",
       "</div>"
      ],
      "text/plain": [
       "               ID      Height      Weight          MH      vo2max\n",
       "count  100.000000  100.000000  100.000000  100.000000  100.000000\n",
       "mean   478.080000    1.684200   78.111900   40.854500   48.124200\n",
       "std    290.240189    0.102032   20.166333    7.438036    6.908733\n",
       "min      1.000000    1.380000   41.730000   22.830000   32.170000\n",
       "25%    232.750000    1.620000   63.150000   36.010000   44.077500\n",
       "50%    450.500000    1.690000   76.355000   40.385000   48.370000\n",
       "75%    729.250000    1.760000   89.767500   46.270000   53.227500\n",
       "max    998.000000    1.900000  143.750000   60.000000   64.550000"
      ]
     },
     "execution_count": 18,
     "metadata": {},
     "output_type": "execute_result"
    }
   ],
   "source": [
    "# descriptive analysis of numerical columns\n",
    "data.describe()"
   ]
  },
  {
   "cell_type": "code",
   "execution_count": 19,
   "id": "000d8ba7-3908-4e1f-b240-62bfcc1affef",
   "metadata": {},
   "outputs": [
    {
     "data": {
      "text/plain": [
       "Gender\n",
       "Male      54\n",
       "Female    46\n",
       "Name: count, dtype: int64"
      ]
     },
     "execution_count": 19,
     "metadata": {},
     "output_type": "execute_result"
    }
   ],
   "source": [
    "# descriptive analysis of categorical columns: Gender\n",
    "data['Gender'].value_counts()"
   ]
  },
  {
   "cell_type": "code",
   "execution_count": 20,
   "id": "228139b6-fd31-4e76-a1c0-0ee89fd82704",
   "metadata": {},
   "outputs": [
    {
     "data": {
      "text/plain": [
       "ExerciseReg\n",
       "Doesnt Exercise Regularly    51\n",
       "Exercise Regularly           49\n",
       "Name: count, dtype: int64"
      ]
     },
     "execution_count": 20,
     "metadata": {},
     "output_type": "execute_result"
    }
   ],
   "source": [
    "# descriptive analysis of categorical columns: ExerciseReg\n",
    "data['ExerciseReg'].value_counts()"
   ]
  },
  {
   "cell_type": "markdown",
   "id": "ef99d8e9-94c6-4806-81be-26f4829c50ad",
   "metadata": {},
   "source": [
    "### Bivariate Descriptive Analysis"
   ]
  },
  {
   "cell_type": "code",
   "execution_count": 22,
   "id": "05559453-09e8-4f35-ad0d-61d0c43f0616",
   "metadata": {},
   "outputs": [
    {
     "data": {
      "text/html": [
       "<div>\n",
       "<style scoped>\n",
       "    .dataframe tbody tr th:only-of-type {\n",
       "        vertical-align: middle;\n",
       "    }\n",
       "\n",
       "    .dataframe tbody tr th {\n",
       "        vertical-align: top;\n",
       "    }\n",
       "\n",
       "    .dataframe thead th {\n",
       "        text-align: right;\n",
       "    }\n",
       "</style>\n",
       "<table border=\"1\" class=\"dataframe\">\n",
       "  <thead>\n",
       "    <tr style=\"text-align: right;\">\n",
       "      <th></th>\n",
       "      <th>mean_height</th>\n",
       "      <th>std</th>\n",
       "    </tr>\n",
       "    <tr>\n",
       "      <th>Gender</th>\n",
       "      <th></th>\n",
       "      <th></th>\n",
       "    </tr>\n",
       "  </thead>\n",
       "  <tbody>\n",
       "    <tr>\n",
       "      <th>Female</th>\n",
       "      <td>1.610435</td>\n",
       "      <td>0.083212</td>\n",
       "    </tr>\n",
       "    <tr>\n",
       "      <th>Male</th>\n",
       "      <td>1.747037</td>\n",
       "      <td>0.069435</td>\n",
       "    </tr>\n",
       "  </tbody>\n",
       "</table>\n",
       "</div>"
      ],
      "text/plain": [
       "        mean_height       std\n",
       "Gender                       \n",
       "Female     1.610435  0.083212\n",
       "Male       1.747037  0.069435"
      ]
     },
     "execution_count": 22,
     "metadata": {},
     "output_type": "execute_result"
    }
   ],
   "source": [
    "# Height by Gender\n",
    "data.groupby(['Gender']).agg(\n",
    "    mean_height = ('Height','mean'),\n",
    "    std = ('Height','std')\n",
    ")"
   ]
  },
  {
   "cell_type": "code",
   "execution_count": 23,
   "id": "4e5f8b9a-f131-422d-91a7-5c945290764d",
   "metadata": {},
   "outputs": [
    {
     "data": {
      "image/png": "[encoded data removed]",
      "text/plain": [
       "<Figure size 640x480 with 1 Axes>"
      ]
     },
     "metadata": {},
     "output_type": "display_data"
    }
   ],
   "source": [
    "# Height by Gender barchart\n",
    "sns.barplot(x = 'Gender', y = 'Height', data = data, estimator=np.mean)\n",
    "plt.show()"
   ]
  },
  {
   "cell_type": "code",
   "execution_count": 24,
   "id": "353f840f-5f48-4372-95f8-4a94b87cc233",
   "metadata": {},
   "outputs": [
    {
     "data": {
      "text/html": [
       "<div>\n",
       "<style scoped>\n",
       "    .dataframe tbody tr th:only-of-type {\n",
       "        vertical-align: middle;\n",
       "    }\n",
       "\n",
       "    .dataframe tbody tr th {\n",
       "        vertical-align: top;\n",
       "    }\n",
       "\n",
       "    .dataframe thead th {\n",
       "        text-align: right;\n",
       "    }\n",
       "</style>\n",
       "<table border=\"1\" class=\"dataframe\">\n",
       "  <thead>\n",
       "    <tr style=\"text-align: right;\">\n",
       "      <th></th>\n",
       "      <th>mean_weight</th>\n",
       "      <th>std</th>\n",
       "    </tr>\n",
       "    <tr>\n",
       "      <th>Gender</th>\n",
       "      <th></th>\n",
       "      <th></th>\n",
       "    </tr>\n",
       "  </thead>\n",
       "  <tbody>\n",
       "    <tr>\n",
       "      <th>Female</th>\n",
       "      <td>70.982174</td>\n",
       "      <td>14.001629</td>\n",
       "    </tr>\n",
       "    <tr>\n",
       "      <th>Male</th>\n",
       "      <td>84.185370</td>\n",
       "      <td>22.616219</td>\n",
       "    </tr>\n",
       "  </tbody>\n",
       "</table>\n",
       "</div>"
      ],
      "text/plain": [
       "        mean_weight        std\n",
       "Gender                        \n",
       "Female    70.982174  14.001629\n",
       "Male      84.185370  22.616219"
      ]
     },
     "execution_count": 24,
     "metadata": {},
     "output_type": "execute_result"
    }
   ],
   "source": [
    "# Weight by Gender\n",
    "data.groupby(['Gender']).agg(\n",
    "    mean_weight = ('Weight','mean'),\n",
    "    std = ('Weight','std')\n",
    ")"
   ]
  },
  {
   "cell_type": "code",
   "execution_count": 25,
   "id": "c2ba83f7-3e01-4428-a358-cfb1a5757615",
   "metadata": {},
   "outputs": [
    {
     "data": {
      "image/png": "[encoded data removed]",
      "text/plain": [
       "<Figure size 640x480 with 1 Axes>"
      ]
     },
     "metadata": {},
     "output_type": "display_data"
    }
   ],
   "source": [
    "# Weight by Gender barchart\n",
    "sns.barplot(x = 'Gender', y = 'Weight', data = data, estimator = np.mean)\n",
    "plt.show()"
   ]
  },
  {
   "cell_type": "code",
   "execution_count": 26,
   "id": "48c5ca5d-9d0d-474b-88e1-f28ebdd70f03",
   "metadata": {},
   "outputs": [
    {
     "data": {
      "text/html": [
       "<div>\n",
       "<style scoped>\n",
       "    .dataframe tbody tr th:only-of-type {\n",
       "        vertical-align: middle;\n",
       "    }\n",
       "\n",
       "    .dataframe tbody tr th {\n",
       "        vertical-align: top;\n",
       "    }\n",
       "\n",
       "    .dataframe thead th {\n",
       "        text-align: right;\n",
       "    }\n",
       "</style>\n",
       "<table border=\"1\" class=\"dataframe\">\n",
       "  <thead>\n",
       "    <tr style=\"text-align: right;\">\n",
       "      <th></th>\n",
       "      <th>mean_MHS</th>\n",
       "      <th>std</th>\n",
       "    </tr>\n",
       "    <tr>\n",
       "      <th>Gender</th>\n",
       "      <th></th>\n",
       "      <th></th>\n",
       "    </tr>\n",
       "  </thead>\n",
       "  <tbody>\n",
       "    <tr>\n",
       "      <th>Female</th>\n",
       "      <td>46.150217</td>\n",
       "      <td>5.608928</td>\n",
       "    </tr>\n",
       "    <tr>\n",
       "      <th>Male</th>\n",
       "      <td>36.343333</td>\n",
       "      <td>5.617400</td>\n",
       "    </tr>\n",
       "  </tbody>\n",
       "</table>\n",
       "</div>"
      ],
      "text/plain": [
       "         mean_MHS       std\n",
       "Gender                     \n",
       "Female  46.150217  5.608928\n",
       "Male    36.343333  5.617400"
      ]
     },
     "execution_count": 26,
     "metadata": {},
     "output_type": "execute_result"
    }
   ],
   "source": [
    "# Mental health score by Gender\n",
    "data.groupby(['Gender']).agg(\n",
    "    mean_MHS = ('MH','mean'),\n",
    "    std = ('MH','std')\n",
    ")"
   ]
  },
  {
   "cell_type": "code",
   "execution_count": 27,
   "id": "150cc0c0-8fe1-480b-924b-d9d3fea8f1cb",
   "metadata": {},
   "outputs": [
    {
     "data": {
      "image/png": "[encoded data removed]",
      "text/plain": [
       "<Figure size 640x480 with 1 Axes>"
      ]
     },
     "metadata": {},
     "output_type": "display_data"
    }
   ],
   "source": [
    "# Mental health score by Gender barchart\n",
    "sns.barplot(x = 'Gender', y = 'MH', data = data, estimator = np.mean)\n",
    "plt.show()"
   ]
  },
  {
   "cell_type": "code",
   "execution_count": 28,
   "id": "8e40dbe0-8b05-4032-9d12-33559543f8e6",
   "metadata": {},
   "outputs": [
    {
     "data": {
      "text/html": [
       "<div>\n",
       "<style scoped>\n",
       "    .dataframe tbody tr th:only-of-type {\n",
       "        vertical-align: middle;\n",
       "    }\n",
       "\n",
       "    .dataframe tbody tr th {\n",
       "        vertical-align: top;\n",
       "    }\n",
       "\n",
       "    .dataframe thead th {\n",
       "        text-align: right;\n",
       "    }\n",
       "</style>\n",
       "<table border=\"1\" class=\"dataframe\">\n",
       "  <thead>\n",
       "    <tr style=\"text-align: right;\">\n",
       "      <th></th>\n",
       "      <th>mean_PHS</th>\n",
       "      <th>std</th>\n",
       "    </tr>\n",
       "    <tr>\n",
       "      <th>Gender</th>\n",
       "      <th></th>\n",
       "      <th></th>\n",
       "    </tr>\n",
       "  </thead>\n",
       "  <tbody>\n",
       "    <tr>\n",
       "      <th>Female</th>\n",
       "      <td>48.176957</td>\n",
       "      <td>6.776065</td>\n",
       "    </tr>\n",
       "    <tr>\n",
       "      <th>Male</th>\n",
       "      <td>48.079259</td>\n",
       "      <td>7.082951</td>\n",
       "    </tr>\n",
       "  </tbody>\n",
       "</table>\n",
       "</div>"
      ],
      "text/plain": [
       "         mean_PHS       std\n",
       "Gender                     \n",
       "Female  48.176957  6.776065\n",
       "Male    48.079259  7.082951"
      ]
     },
     "execution_count": 28,
     "metadata": {},
     "output_type": "execute_result"
    }
   ],
   "source": [
    "# Physical Health Score by Gender\n",
    "data.groupby(['Gender']).agg(\n",
    "    mean_PHS = ('vo2max','mean'),\n",
    "    std = ('vo2max','std')\n",
    ")"
   ]
  },
  {
   "cell_type": "code",
   "execution_count": 29,
   "id": "1f25e3af-9f8a-4689-b7b1-6a96ff1d5340",
   "metadata": {},
   "outputs": [
    {
     "data": {
      "image/png": "[encoded data removed]",
      "text/plain": [
       "<Figure size 640x480 with 1 Axes>"
      ]
     },
     "metadata": {},
     "output_type": "display_data"
    }
   ],
   "source": [
    "# Physical Health Score by Gender barchart\n",
    "sns.barplot(x = 'Gender', y = 'vo2max', data = data, estimator = np.mean )\n",
    "plt.show()"
   ]
  },
  {
   "cell_type": "code",
   "execution_count": 30,
   "id": "0f653e25-44f7-474e-8393-212672cad167",
   "metadata": {},
   "outputs": [
    {
     "data": {
      "text/html": [
       "<div>\n",
       "<style scoped>\n",
       "    .dataframe tbody tr th:only-of-type {\n",
       "        vertical-align: middle;\n",
       "    }\n",
       "\n",
       "    .dataframe tbody tr th {\n",
       "        vertical-align: top;\n",
       "    }\n",
       "\n",
       "    .dataframe thead th {\n",
       "        text-align: right;\n",
       "    }\n",
       "</style>\n",
       "<table border=\"1\" class=\"dataframe\">\n",
       "  <thead>\n",
       "    <tr style=\"text-align: right;\">\n",
       "      <th></th>\n",
       "      <th>mean_PHS</th>\n",
       "      <th>std</th>\n",
       "    </tr>\n",
       "    <tr>\n",
       "      <th>ExerciseReg</th>\n",
       "      <th></th>\n",
       "      <th></th>\n",
       "    </tr>\n",
       "  </thead>\n",
       "  <tbody>\n",
       "    <tr>\n",
       "      <th>Doesnt Exercise Regularly</th>\n",
       "      <td>47.377255</td>\n",
       "      <td>7.845738</td>\n",
       "    </tr>\n",
       "    <tr>\n",
       "      <th>Exercise Regularly</th>\n",
       "      <td>48.901633</td>\n",
       "      <td>5.754488</td>\n",
       "    </tr>\n",
       "  </tbody>\n",
       "</table>\n",
       "</div>"
      ],
      "text/plain": [
       "                            mean_PHS       std\n",
       "ExerciseReg                                   \n",
       "Doesnt Exercise Regularly  47.377255  7.845738\n",
       "Exercise Regularly         48.901633  5.754488"
      ]
     },
     "execution_count": 30,
     "metadata": {},
     "output_type": "execute_result"
    }
   ],
   "source": [
    "# Physical Health Score by Exercise status\n",
    "data.groupby(['ExerciseReg']).agg(\n",
    "    mean_PHS = ('vo2max','mean'),\n",
    "    std = ('vo2max','std')\n",
    ")"
   ]
  },
  {
   "cell_type": "code",
   "execution_count": 31,
   "id": "25f418f8-3444-4435-94f1-d0bb592fda90",
   "metadata": {},
   "outputs": [
    {
     "data": {
      "image/png": "[encoded data removed]",
      "text/plain": [
       "<Figure size 640x480 with 1 Axes>"
      ]
     },
     "metadata": {},
     "output_type": "display_data"
    }
   ],
   "source": [
    "# Physical Health Score by Exercise status barchart\n",
    "sns.barplot(x = 'ExerciseReg', y = 'vo2max', data = data, estimator = np.mean)\n",
    "plt.show()"
   ]
  },
  {
   "cell_type": "code",
   "execution_count": 32,
   "id": "cd77238f-026c-472f-8799-d55fb763281e",
   "metadata": {},
   "outputs": [
    {
     "data": {
      "text/html": [
       "<div>\n",
       "<style scoped>\n",
       "    .dataframe tbody tr th:only-of-type {\n",
       "        vertical-align: middle;\n",
       "    }\n",
       "\n",
       "    .dataframe tbody tr th {\n",
       "        vertical-align: top;\n",
       "    }\n",
       "\n",
       "    .dataframe thead th {\n",
       "        text-align: right;\n",
       "    }\n",
       "</style>\n",
       "<table border=\"1\" class=\"dataframe\">\n",
       "  <thead>\n",
       "    <tr style=\"text-align: right;\">\n",
       "      <th></th>\n",
       "      <th>mean_MHS</th>\n",
       "      <th>std</th>\n",
       "    </tr>\n",
       "    <tr>\n",
       "      <th>ExerciseReg</th>\n",
       "      <th></th>\n",
       "      <th></th>\n",
       "    </tr>\n",
       "  </thead>\n",
       "  <tbody>\n",
       "    <tr>\n",
       "      <th>Doesnt Exercise Regularly</th>\n",
       "      <td>40.864510</td>\n",
       "      <td>8.334990</td>\n",
       "    </tr>\n",
       "    <tr>\n",
       "      <th>Exercise Regularly</th>\n",
       "      <td>40.844082</td>\n",
       "      <td>6.460619</td>\n",
       "    </tr>\n",
       "  </tbody>\n",
       "</table>\n",
       "</div>"
      ],
      "text/plain": [
       "                            mean_MHS       std\n",
       "ExerciseReg                                   \n",
       "Doesnt Exercise Regularly  40.864510  8.334990\n",
       "Exercise Regularly         40.844082  6.460619"
      ]
     },
     "execution_count": 32,
     "metadata": {},
     "output_type": "execute_result"
    }
   ],
   "source": [
    "# Mental Health Score by Exercise status\n",
    "data.groupby(['ExerciseReg']).agg(\n",
    "    mean_MHS = ('MH','mean'),\n",
    "    std = ('MH','std')\n",
    ")"
   ]
  },
  {
   "cell_type": "code",
   "execution_count": 33,
   "id": "a63c5e60-1dd5-40b1-8a6e-d2421024093f",
   "metadata": {},
   "outputs": [
    {
     "data": {
      "image/png": "[encoded data removed]",
      "text/plain": [
       "<Figure size 640x480 with 1 Axes>"
      ]
     },
     "metadata": {},
     "output_type": "display_data"
    }
   ],
   "source": [
    "# Mental Health Score by Exercise status barchart\n",
    "sns.barplot(x = 'ExerciseReg', y = 'MH', data = data, estimator = np.mean)\n",
    "plt.show()"
   ]
  },
  {
   "cell_type": "code",
   "execution_count": 34,
   "id": "44c1b59f-b3fb-4f0f-b44f-2166d5d2f0f4",
   "metadata": {},
   "outputs": [
    {
     "data": {
      "image/png": "[encoded data removed]",
      "text/plain": [
       "<Figure size 500x500 with 1 Axes>"
      ]
     },
     "metadata": {},
     "output_type": "display_data"
    }
   ],
   "source": [
    "# visualizing correlation between mental health score and physical health score: scatter plot\n",
    "sns.lmplot(x = 'vo2max', y = 'MH', data = data)\n",
    "\n",
    "plt.show()\n"
   ]
  },
  {
   "cell_type": "markdown",
   "id": "9f576cd7-c76d-405c-b3bc-5a2b10ff3893",
   "metadata": {},
   "source": [
    "- the scatterplot above showed there's a weak negative linear relationship between mental health score and physical health score. Meaning that mental health score tends to reduce as physical health score increase and vice versa"
   ]
  },
  {
   "cell_type": "markdown",
   "id": "3aa96fee-d791-41d9-93fb-cf8d530c2724",
   "metadata": {},
   "source": [
    "## Inferential Analysis"
   ]
  },
  {
   "cell_type": "markdown",
   "id": "8f46d381-9cff-4b83-b13a-12e033ce21ba",
   "metadata": {},
   "source": [
    "### Research Question 1: Is there a difference in Mental Health Score between males and females?"
   ]
  },
  {
   "cell_type": "code",
   "execution_count": 215,
   "id": "eeee37f2-e5b3-4181-a1b8-27fa4f392cb3",
   "metadata": {
    "scrolled": true
   },
   "outputs": [
    {
     "name": "stdout",
     "output_type": "stream",
     "text": [
      "Male - Shapiro-Wilk Test: stat=0.985, p=0.711\n",
      "  ➤ Data appears to be normally distributed (fail to reject H0)\n",
      "\n",
      "Female - Shapiro-Wilk Test: stat=0.973, p=0.358\n",
      "  ➤ Data appears to be normally distributed (fail to reject H0)\n",
      "\n"
     ]
    }
   ],
   "source": [
    "#checking for normality\n",
    "#H0: Sample is from a normal distributions.\n",
    "#H1: Sample is not from a normal distributions.\n",
    "\n",
    "from scipy.stats import shapiro\n",
    "\n",
    "for group in data['Gender'].unique():\n",
    "    subset = data[data['Gender'] == group]['MH']\n",
    "    stat, p = shapiro(subset)\n",
    "    print(f\"{group} - Shapiro-Wilk Test: stat={stat:.3f}, p={p:.3f}\")\n",
    "    \n",
    "    if p > 0.05:\n",
    "        print(\"  ➤ Data appears to be normally distributed (fail to reject H0)\\n\")\n",
    "    else:\n",
    "        print(\"  ➤ Data does not appears to be  normally distributed (reject H0)\\n\")\n",
    "\n"
   ]
  },
  {
   "cell_type": "markdown",
   "id": "21facae8-4d24-47ea-a6de-7b55bd544ae0",
   "metadata": {},
   "source": [
    "Both groups/subset in the Gender column appears to be normaly distributed therefore, the parametric test for testing for difference between two groups will be used to test the hypothesis: independent T-test"
   ]
  },
  {
   "cell_type": "markdown",
   "id": "d0273495-8813-4f0f-8943-66121d22e96a",
   "metadata": {},
   "source": [
    "#### H0: There's no difference in Mental Health Score between males and females\n",
    "#### H1: There's difference in Mental Health Score between males and females"
   ]
  },
  {
   "cell_type": "code",
   "execution_count": 166,
   "id": "0319c2bc-f599-4690-8093-29ab5bdb989e",
   "metadata": {},
   "outputs": [
    {
     "name": "stdout",
     "output_type": "stream",
     "text": [
      "T-test result: t-statistic = -8.707, p-value = 0.000\n",
      "There's significant difference in MH scores between males and females.\n"
     ]
    }
   ],
   "source": [
    "#T-test\n",
    "from scipy.stats import ttest_ind\n",
    "\n",
    "# Subset MH scores by gender\n",
    "mh_male = data[data['Gender'] == 'Male']['MH']\n",
    "mh_female = data[data['Gender'] == 'Female']['MH']\n",
    "\n",
    "# Run the t-test\n",
    "t_stat, p = ttest_ind(mh_male, mh_female, equal_var=True)  # or False if variances are unequal\n",
    "\n",
    "print(f\"T-test result: t-statistic = {t_stat:.3f}, p-value = {p:.3f}\")\n",
    "\n",
    "# Interpret the result\n",
    "if p > 0.05:\n",
    "    print(\"There's no significant difference in MH scores between males and females.\")\n",
    "else:\n",
    "    print(\"There's significant difference in MH scores between males and females.\")"
   ]
  },
  {
   "cell_type": "markdown",
   "id": "3c6bef5f-de36-4242-b061-1c953533b55a",
   "metadata": {},
   "source": [
    "### Research Question 2: Is there a difference in Physical Health Score across different BMI groups (Underweight, Normal, Overweight, Obese)?"
   ]
  },
  {
   "cell_type": "markdown",
   "id": "f00f435a-580c-4c8c-9b68-719802b34b7f",
   "metadata": {},
   "source": [
    "The dataset doesn't currently have BMI and BMI groups variables. Therefore there's need for feature engineeing to create them"
   ]
  },
  {
   "cell_type": "markdown",
   "id": "2314d71a-7b7b-4694-a4c3-77c1d865562e",
   "metadata": {},
   "source": [
    "#### Feature Engineering"
   ]
  },
  {
   "cell_type": "code",
   "execution_count": 133,
   "id": "279b4fa5-c2e2-4935-8b91-ae65b7f58f17",
   "metadata": {},
   "outputs": [
    {
     "data": {
      "text/html": [
       "<div>\n",
       "<style scoped>\n",
       "    .dataframe tbody tr th:only-of-type {\n",
       "        vertical-align: middle;\n",
       "    }\n",
       "\n",
       "    .dataframe tbody tr th {\n",
       "        vertical-align: top;\n",
       "    }\n",
       "\n",
       "    .dataframe thead th {\n",
       "        text-align: right;\n",
       "    }\n",
       "</style>\n",
       "<table border=\"1\" class=\"dataframe\">\n",
       "  <thead>\n",
       "    <tr style=\"text-align: right;\">\n",
       "      <th></th>\n",
       "      <th>ID</th>\n",
       "      <th>Gender</th>\n",
       "      <th>Height</th>\n",
       "      <th>Weight</th>\n",
       "      <th>MH</th>\n",
       "      <th>ExerciseReg</th>\n",
       "      <th>vo2max</th>\n",
       "      <th>BMI</th>\n",
       "    </tr>\n",
       "  </thead>\n",
       "  <tbody>\n",
       "    <tr>\n",
       "      <th>0</th>\n",
       "      <td>18</td>\n",
       "      <td>Male</td>\n",
       "      <td>1.62</td>\n",
       "      <td>43.27</td>\n",
       "      <td>37.48</td>\n",
       "      <td>Exercise Regularly</td>\n",
       "      <td>48.33</td>\n",
       "      <td>16.487578</td>\n",
       "    </tr>\n",
       "    <tr>\n",
       "      <th>1</th>\n",
       "      <td>16</td>\n",
       "      <td>Male</td>\n",
       "      <td>1.62</td>\n",
       "      <td>43.72</td>\n",
       "      <td>32.86</td>\n",
       "      <td>Exercise Regularly</td>\n",
       "      <td>52.32</td>\n",
       "      <td>16.659046</td>\n",
       "    </tr>\n",
       "    <tr>\n",
       "      <th>2</th>\n",
       "      <td>57</td>\n",
       "      <td>Female</td>\n",
       "      <td>1.56</td>\n",
       "      <td>41.73</td>\n",
       "      <td>43.58</td>\n",
       "      <td>Exercise Regularly</td>\n",
       "      <td>46.31</td>\n",
       "      <td>17.147436</td>\n",
       "    </tr>\n",
       "    <tr>\n",
       "      <th>3</th>\n",
       "      <td>8</td>\n",
       "      <td>Male</td>\n",
       "      <td>1.62</td>\n",
       "      <td>47.28</td>\n",
       "      <td>38.65</td>\n",
       "      <td>Exercise Regularly</td>\n",
       "      <td>56.60</td>\n",
       "      <td>18.015546</td>\n",
       "    </tr>\n",
       "    <tr>\n",
       "      <th>4</th>\n",
       "      <td>61</td>\n",
       "      <td>Female</td>\n",
       "      <td>1.52</td>\n",
       "      <td>42.04</td>\n",
       "      <td>38.26</td>\n",
       "      <td>Exercise Regularly</td>\n",
       "      <td>52.08</td>\n",
       "      <td>18.195983</td>\n",
       "    </tr>\n",
       "  </tbody>\n",
       "</table>\n",
       "</div>"
      ],
      "text/plain": [
       "   ID  Gender  Height  Weight     MH         ExerciseReg  vo2max        BMI\n",
       "0  18    Male    1.62   43.27  37.48  Exercise Regularly   48.33  16.487578\n",
       "1  16    Male    1.62   43.72  32.86  Exercise Regularly   52.32  16.659046\n",
       "2  57  Female    1.56   41.73  43.58  Exercise Regularly   46.31  17.147436\n",
       "3   8    Male    1.62   47.28  38.65  Exercise Regularly   56.60  18.015546\n",
       "4  61  Female    1.52   42.04  38.26  Exercise Regularly   52.08  18.195983"
      ]
     },
     "execution_count": 133,
     "metadata": {},
     "output_type": "execute_result"
    }
   ],
   "source": [
    "#create BMI\n",
    "data['BMI'] = data['Weight'] / (data['Height'] * data['Height'])\n",
    "\n",
    "# Check the result\n",
    "data.head()"
   ]
  },
  {
   "cell_type": "code",
   "execution_count": 135,
   "id": "5607954f-c980-4eef-be45-1af7b781223a",
   "metadata": {},
   "outputs": [
    {
     "data": {
      "text/html": [
       "<div>\n",
       "<style scoped>\n",
       "    .dataframe tbody tr th:only-of-type {\n",
       "        vertical-align: middle;\n",
       "    }\n",
       "\n",
       "    .dataframe tbody tr th {\n",
       "        vertical-align: top;\n",
       "    }\n",
       "\n",
       "    .dataframe thead th {\n",
       "        text-align: right;\n",
       "    }\n",
       "</style>\n",
       "<table border=\"1\" class=\"dataframe\">\n",
       "  <thead>\n",
       "    <tr style=\"text-align: right;\">\n",
       "      <th></th>\n",
       "      <th>ID</th>\n",
       "      <th>Gender</th>\n",
       "      <th>Height</th>\n",
       "      <th>Weight</th>\n",
       "      <th>MH</th>\n",
       "      <th>ExerciseReg</th>\n",
       "      <th>vo2max</th>\n",
       "      <th>BMI</th>\n",
       "      <th>BMI_Group</th>\n",
       "    </tr>\n",
       "  </thead>\n",
       "  <tbody>\n",
       "    <tr>\n",
       "      <th>0</th>\n",
       "      <td>18</td>\n",
       "      <td>Male</td>\n",
       "      <td>1.62</td>\n",
       "      <td>43.27</td>\n",
       "      <td>37.48</td>\n",
       "      <td>Exercise Regularly</td>\n",
       "      <td>48.33</td>\n",
       "      <td>16.487578</td>\n",
       "      <td>Underweight</td>\n",
       "    </tr>\n",
       "    <tr>\n",
       "      <th>1</th>\n",
       "      <td>16</td>\n",
       "      <td>Male</td>\n",
       "      <td>1.62</td>\n",
       "      <td>43.72</td>\n",
       "      <td>32.86</td>\n",
       "      <td>Exercise Regularly</td>\n",
       "      <td>52.32</td>\n",
       "      <td>16.659046</td>\n",
       "      <td>Underweight</td>\n",
       "    </tr>\n",
       "    <tr>\n",
       "      <th>2</th>\n",
       "      <td>57</td>\n",
       "      <td>Female</td>\n",
       "      <td>1.56</td>\n",
       "      <td>41.73</td>\n",
       "      <td>43.58</td>\n",
       "      <td>Exercise Regularly</td>\n",
       "      <td>46.31</td>\n",
       "      <td>17.147436</td>\n",
       "      <td>Underweight</td>\n",
       "    </tr>\n",
       "    <tr>\n",
       "      <th>3</th>\n",
       "      <td>8</td>\n",
       "      <td>Male</td>\n",
       "      <td>1.62</td>\n",
       "      <td>47.28</td>\n",
       "      <td>38.65</td>\n",
       "      <td>Exercise Regularly</td>\n",
       "      <td>56.60</td>\n",
       "      <td>18.015546</td>\n",
       "      <td>Underweight</td>\n",
       "    </tr>\n",
       "    <tr>\n",
       "      <th>4</th>\n",
       "      <td>61</td>\n",
       "      <td>Female</td>\n",
       "      <td>1.52</td>\n",
       "      <td>42.04</td>\n",
       "      <td>38.26</td>\n",
       "      <td>Exercise Regularly</td>\n",
       "      <td>52.08</td>\n",
       "      <td>18.195983</td>\n",
       "      <td>Underweight</td>\n",
       "    </tr>\n",
       "  </tbody>\n",
       "</table>\n",
       "</div>"
      ],
      "text/plain": [
       "   ID  Gender  Height  Weight     MH         ExerciseReg  vo2max        BMI  \\\n",
       "0  18    Male    1.62   43.27  37.48  Exercise Regularly   48.33  16.487578   \n",
       "1  16    Male    1.62   43.72  32.86  Exercise Regularly   52.32  16.659046   \n",
       "2  57  Female    1.56   41.73  43.58  Exercise Regularly   46.31  17.147436   \n",
       "3   8    Male    1.62   47.28  38.65  Exercise Regularly   56.60  18.015546   \n",
       "4  61  Female    1.52   42.04  38.26  Exercise Regularly   52.08  18.195983   \n",
       "\n",
       "     BMI_Group  \n",
       "0  Underweight  \n",
       "1  Underweight  \n",
       "2  Underweight  \n",
       "3  Underweight  \n",
       "4  Underweight  "
      ]
     },
     "execution_count": 135,
     "metadata": {},
     "output_type": "execute_result"
    }
   ],
   "source": [
    "# Create BMI categories\n",
    "bins = [0, 18.5, 24.9, 29.9, np.inf]  # Define the boundaries for the BMI groups\n",
    "labels = ['Underweight', 'Normal', 'Overweight', 'Obese']  # Define labels for each group\n",
    "\n",
    "# Add a new column for BMI group\n",
    "data['BMI_Group'] = pd.cut(data['BMI'], bins=bins, labels=labels, right=False)\n",
    "\n",
    "# Check the result\n",
    "data.head()"
   ]
  },
  {
   "cell_type": "code",
   "execution_count": 217,
   "id": "f93d15a8-633e-4e94-961a-5210981c413f",
   "metadata": {},
   "outputs": [
    {
     "name": "stdout",
     "output_type": "stream",
     "text": [
      "Underweight - Shapiro-Wilk Test: stat=0.980, p=0.952\n",
      "  Data appear normally distributed (fail to reject H0)\n",
      "\n",
      "Normal - Shapiro-Wilk Test: stat=0.982, p=0.856\n",
      "  Data appear normally distributed (fail to reject H0)\n",
      "\n",
      "Overweight - Shapiro-Wilk Test: stat=0.979, p=0.792\n",
      "  Data appear normally distributed (fail to reject H0)\n",
      "\n",
      "Obese - Shapiro-Wilk Test: stat=0.975, p=0.635\n",
      "  Data appear normally distributed (fail to reject H0)\n",
      "\n"
     ]
    }
   ],
   "source": [
    "#check for normality\n",
    "from scipy.stats import shapiro\n",
    "\n",
    "for group in data['BMI_Group'].unique():\n",
    "    subset = data[data['BMI_Group'] == group]['vo2max']\n",
    "    \n",
    "    stat, p = shapiro(subset)\n",
    "    print(f\"{group} - Shapiro-Wilk Test: stat={stat:.3f}, p={p:.3f}\")\n",
    "    \n",
    "    if p > 0.05:\n",
    "        print(\"  Data appear normally distributed (fail to reject H0)\\n\")\n",
    "    else:\n",
    "        print(\"  Data does not appear normally distributed (reject H0)\\n\")"
   ]
  },
  {
   "cell_type": "markdown",
   "id": "d9b29944-0533-47f4-906e-7625fba33e29",
   "metadata": {},
   "source": [
    "All groups/subset in the BMI column appears to be normaly distributed therefore, the parametric test for testing for difference between more two groups will be used to test the hypothesis: One Way ANOVA"
   ]
  },
  {
   "cell_type": "code",
   "execution_count": 171,
   "id": "1a69a87b-e730-41cb-86f7-78277a4e241a",
   "metadata": {},
   "outputs": [
    {
     "name": "stdout",
     "output_type": "stream",
     "text": [
      "ANOVA result: F-statistic = 7.030, p-value = 0.000\n",
      "There is a significant difference in VO2Max across BMI groups.\n"
     ]
    }
   ],
   "source": [
    "#One Way ANOVA\n",
    "\n",
    "from scipy.stats import f_oneway\n",
    "\n",
    "# Group the data by BMI groups\n",
    "bmi_groups = [data[data['BMI_Group'] == group]['vo2max'] for group in data['BMI_Group'].unique()]\n",
    "\n",
    "# Perform One-Way ANOVA\n",
    "f_stat, p_value = f_oneway(*bmi_groups)\n",
    "\n",
    "# Print the results\n",
    "print(f\"ANOVA result: F-statistic = {f_stat:.3f}, p-value = {p_value:.3f}\")\n",
    "\n",
    "# Interpret the result\n",
    "if p_value < 0.05:\n",
    "    print(\"There is a significant difference in VO2Max across BMI groups.\")\n",
    "else:\n",
    "    print(\"There is no significant difference in VO2Max across BMI groups.\")\n"
   ]
  },
  {
   "cell_type": "markdown",
   "id": "d5f9b9b8-1cf4-4d68-9e61-41f3d27ed4bc",
   "metadata": {},
   "source": [
    "### Research Question 3: Is there a relationship between Mental Health and Physical Health scores?"
   ]
  },
  {
   "cell_type": "code",
   "execution_count": 179,
   "id": "5fa03c4a-3fd9-480f-ad83-2860dffd1953",
   "metadata": {},
   "outputs": [
    {
     "name": "stdout",
     "output_type": "stream",
     "text": [
      "Shapiro-Wilk Test for MH: stat=0.994, p=0.932\n",
      "Data appears normally distributed (fail to reject H0)\n"
     ]
    }
   ],
   "source": [
    "#check for normality for mental health score\n",
    "from scipy.stats import shapiro\n",
    "\n",
    "stat, p = shapiro(data['MH'])\n",
    "print(f\"Shapiro-Wilk Test for MH: stat={stat:.3f}, p={p:.3f}\")\n",
    "\n",
    "if p > 0.05:\n",
    "    print(\"Data appears normally distributed (fail to reject H0)\")\n",
    "else:\n",
    "    print(\"Data does not appear normally distributed (reject H0)\")\n"
   ]
  },
  {
   "cell_type": "code",
   "execution_count": 181,
   "id": "51edfc5d-dd04-42ce-aaae-21e417278656",
   "metadata": {},
   "outputs": [
    {
     "name": "stdout",
     "output_type": "stream",
     "text": [
      "Shapiro-Wilk Test for physical health score: stat=0.985, p=0.310\n",
      "Data appears normally distributed (fail to reject H0)\n"
     ]
    }
   ],
   "source": [
    "#check for normality for physical health score\n",
    "from scipy.stats import shapiro\n",
    "\n",
    "stat, p = shapiro(data['vo2max'])\n",
    "print(f\"Shapiro-Wilk Test for physical health score: stat={stat:.3f}, p={p:.3f}\")\n",
    "\n",
    "if p > 0.05:\n",
    "    print(\"Data appears normally distributed (fail to reject H0)\")\n",
    "else:\n",
    "    print(\"Data does not appear normally distributed (reject H0)\")\n"
   ]
  },
  {
   "cell_type": "code",
   "execution_count": 186,
   "id": "3104946e-9ed7-4a7b-acac-f8f4c67362ad",
   "metadata": {
    "scrolled": true
   },
   "outputs": [
    {
     "name": "stdout",
     "output_type": "stream",
     "text": [
      "Outliers based on Z-score method:\n",
      "Empty DataFrame\n",
      "Columns: [MH, MH_z, vo2max, vo2max_z]\n",
      "Index: []\n"
     ]
    }
   ],
   "source": [
    "from scipy.stats import zscore\n",
    "\n",
    "# Calculate Z-scores\n",
    "data['MH_z'] = zscore(data['MH'])\n",
    "data['vo2max_z'] = zscore(data['vo2max'])\n",
    "\n",
    "# Define a threshold (commonly 3)\n",
    "threshold = 3\n",
    "\n",
    "# Filter potential outliers\n",
    "outliers = data[(data['MH_z'].abs() > threshold) | (data['vo2max_z'].abs() > threshold)]\n",
    "print(\"Outliers based on Z-score method:\")\n",
    "print(outliers[['MH', 'MH_z', 'vo2max', 'vo2max_z']])"
   ]
  },
  {
   "cell_type": "markdown",
   "id": "1d75e2b2-2600-4fc4-aef3-7fcf016bab1e",
   "metadata": {},
   "source": [
    "Both variables are normaly distributed, and both  doesn't have outliers therefore pearson's correlation can be used to check for the relationship between the two variables "
   ]
  },
  {
   "cell_type": "code",
   "execution_count": 197,
   "id": "82ce3045-1fc5-4a32-b5d1-820b038588b1",
   "metadata": {},
   "outputs": [
    {
     "name": "stdout",
     "output_type": "stream",
     "text": [
      "Pearson correlation: r = -0.089, p-value = 0.378\n"
     ]
    }
   ],
   "source": [
    "from scipy.stats import pearsonr\n",
    "\n",
    "# Calculate Pearson correlation\n",
    "corr, p_value = pearsonr(data['MH'], data['vo2max'])\n",
    "\n",
    "# Print results\n",
    "print(f\"Pearson correlation: r = {corr:.3f}, p-value = {p_value:.3f}\")\n"
   ]
  },
  {
   "cell_type": "markdown",
   "id": "088f70a8-4648-4574-89d8-ba195ad535cd",
   "metadata": {},
   "source": [
    "r = -0.089 means there's a weak negative correlation between mental health score and physical health score\n",
    "p = 0.378 means the correlation is not statistically significant.\n",
    "\n",
    "Conclusion: There's a non significant weak negative correlation between mental health score and physical health score"
   ]
  },
  {
   "cell_type": "markdown",
   "id": "0f836995-173e-4baa-8196-2ff5af9f54a0",
   "metadata": {},
   "source": [
    "### Research Question 4: Is there an association between Regular Exercise and Gender?"
   ]
  },
  {
   "cell_type": "markdown",
   "id": "5da019b5-8bee-4d4f-902e-ef6bd6a237cf",
   "metadata": {},
   "source": [
    "##### H0: There's no significant association between Regular exercise and Gneder\n",
    "##### H1: There's significant association between Regular exercise and Gneder"
   ]
  },
  {
   "cell_type": "code",
   "execution_count": 212,
   "id": "718979e5-d26b-4fd6-bf40-2151b72fbf0e",
   "metadata": {},
   "outputs": [
    {
     "name": "stdout",
     "output_type": "stream",
     "text": [
      "Contingency Table:\n",
      "Gender                     Female  Male\n",
      "ExerciseReg                            \n",
      "Doesnt Exercise Regularly      28    23\n",
      "Exercise Regularly             18    31\n",
      "\n",
      "Chi-square test statistic = 2.629\n",
      "p-value = 0.105\n",
      " There is no significant association between Regular Exercise and Gender (fail to reject H0).\n"
     ]
    }
   ],
   "source": [
    "from scipy.stats import chi2_contingency\n",
    "\n",
    "# Create the contingency table for Regular Exercise vs Gender\n",
    "contingency_table = pd.crosstab(data['ExerciseReg'], data['Gender'])\n",
    "print(\"Contingency Table:\")\n",
    "print(contingency_table)\n",
    "\n",
    "# Perform the Chi-square test\n",
    "chi2_stat, p_value, dof, expected = chi2_contingency(contingency_table)\n",
    "\n",
    "# Print the results\n",
    "print(f\"\\nChi-square test statistic = {chi2_stat:.3f}\")\n",
    "print(f\"p-value = {p_value:.3f}\")\n",
    "\n",
    "# Interpretation\n",
    "if p_value < 0.05:\n",
    "    print(\" There is a significant association between Regular Exercise and Gender (reject H0).\")\n",
    "else:\n",
    "    print(\" There is no significant association between Regular Exercise and Gender (fail to reject H0).\")\n"
   ]
  }
 ],
 "metadata": {
  "kernelspec": {
   "display_name": "Python [conda env:base] *",
   "language": "python",
   "name": "conda-base-py"
  },
  "language_info": {
   "codemirror_mode": {
    "name": "ipython",
    "version": 3
   },
   "file_extension": ".py",
   "mimetype": "text/x-python",
   "name": "python",
   "nbconvert_exporter": "python",
   "pygments_lexer": "ipython3",
   "version": "3.12.7"
  }
 },
 "nbformat": 4,
 "nbformat_minor": 5
}
